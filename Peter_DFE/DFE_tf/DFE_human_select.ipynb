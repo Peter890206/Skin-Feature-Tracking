{
 "cells": [
  {
   "cell_type": "code",
   "execution_count": 18,
   "metadata": {},
   "outputs": [
    {
     "name": "stdout",
     "output_type": "stream",
     "text": [
      "The autoreload extension is already loaded. To reload it, use:\n",
      "  %reload_ext autoreload\n"
     ]
    }
   ],
   "source": [
    "\n",
    "import cv2\n",
    "import matplotlib.pyplot as plt\n",
    "import numpy as np\n",
    "import os\n",
    "import re\n",
    "import pandas as pd\n",
    "import time\n",
    "import tqdm\n",
    "import DFE_tracking as dfe\n",
    "import sys\n",
    "sys.path.append(\"..\")\n",
    "from utils.utils_joscha import *\n",
    "%load_ext autoreload\n",
    "%autoreload"
   ]
  },
  {
   "cell_type": "code",
   "execution_count": 21,
   "metadata": {},
   "outputs": [
    {
     "name": "stdout",
     "output_type": "stream",
     "text": [
      "40\n"
     ]
    }
   ],
   "source": [
    "path = \"../../Preprocess/data/crop_image_handmole_20_20_avg/\"\n",
    "filenames=sorted_alphanumeric(os.listdir(path))\n",
    "filenames = filenames[0:] ##\n",
    "print(len(filenames))"
   ]
  },
  {
   "cell_type": "code",
   "execution_count": 22,
   "metadata": {},
   "outputs": [
    {
     "name": "stdout",
     "output_type": "stream",
     "text": [
      "../../Preprocess/data/crop_image_handmole_20_20_avg/\n",
      "crop_image_0_avg.png\n"
     ]
    },
    {
     "data": {
      "image/png": "[encoded data removed]",
      "text/plain": [
       "<Figure size 640x480 with 1 Axes>"
      ]
     },
     "metadata": {},
     "output_type": "display_data"
    }
   ],
   "source": [
    "window_size=(31,31)\n",
    "new_size=(420,300)\n",
    "print(path)\n",
    "print(filenames[0])\n",
    "img=cv2.imread(path+filenames[0])\n",
    "orgimg_shape = img.shape\n",
    "ImgCopy = img.copy()\n",
    "# mask, img = remove_bg(img)\n",
    "img=cv2.cvtColor(img,cv2.COLOR_BGR2RGB)\n",
    "# img = cv2.rotate(img, cv2.ROTATE_90_COUNTERCLOCKWISE)  # rotate\n",
    "# img=cv2.resize(img,(new_size[0],new_size[1]))\n",
    "# img=cv2.resize(img,(new_size[1],new_size[0]))\n",
    "img=convertRGB2CIELab(img)\n",
    "clone = img.copy()\n",
    "plt.imshow(clone)\n",
    "plt.show()\n"
   ]
  },
  {
   "cell_type": "code",
   "execution_count": 23,
   "metadata": {},
   "outputs": [
    {
     "name": "stdout",
     "output_type": "stream",
     "text": [
      "Select center at: [21, 21]\n",
      "x1, y1, x2, y2: [6, 6, 37, 37]\n",
      "Comfirm center set at: [[21, 21]]\n"
     ]
    }
   ],
   "source": [
    "centers = []\n",
    "\n",
    "img=cv2.imread(path+filenames[0])\n",
    "orgimg_shape = img.shape\n",
    "ImgCopy = img.copy()\n",
    "\n",
    "initial_point = (int(orgimg_shape[0]/2), int(orgimg_shape[1]/2))\n",
    "x1 = int(initial_point[0]-window_size[0]/2)\n",
    "x2 = int(initial_point[0]+window_size[0]/2)\n",
    "y1 = int(initial_point[1]-window_size[1]/2)\n",
    "y2 = int(initial_point[1]+window_size[1]/2)\n",
    "stride = 1\n",
    "frame_idx = 0\n",
    "rect_list = []\n",
    "center_set = []\n",
    "key = cv2.waitKey(0)\n",
    "while True:\n",
    "    clone = ImgCopy.copy()\n",
    "    if key == ord('w'):\n",
    "        y1 -= stride\n",
    "        y2 -= stride\n",
    "    if key == ord('s'):\n",
    "        y1 += stride\n",
    "        y2 += stride\n",
    "    if key == ord('a'):\n",
    "        x1 -= stride\n",
    "        x2 -= stride\n",
    "    if key == ord('d'):\n",
    "        x1 += stride\n",
    "        x2 += stride\n",
    "    if key == ord('z'):\n",
    "        if stride == 1:\n",
    "            stride = 10\n",
    "        else:\n",
    "            stride = 1\n",
    "\n",
    "    # if key == ord('m'):  # move frame\n",
    "    #     frame_idx += 1\n",
    "    # if key == ord('n'):\n",
    "    #     frame_idx -= 1\n",
    "    # if frame_idx < len(filenames):\n",
    "    #     img = cv2.imread(path+filenames[frame_idx])\n",
    "    #     clone = img.copy()\n",
    "\n",
    "    if key == ord('r'):  # refresh img\n",
    "        rect_list = []\n",
    "        center_set = []\n",
    "    if key == 13:\n",
    "        print(\"Select center at: \" +\n",
    "                str([int(x1+window_size[0]/2), int(y1+window_size[0]/2)]))\n",
    "        print(\"x1, y1, x2, y2: \" + str([x1, y1, x2, y2]))\n",
    "        center = [int(x1+window_size[0]/2), int(y1+window_size[0]/2)]\n",
    "        rect_list.append([x1, y1, x2, y2])\n",
    "        center_set.append(\n",
    "            [int(x1+window_size[0]/2), int(y1+window_size[0]/2)])\n",
    "        centers.append([int(x1+window_size[0]/2), int(y1+window_size[0]/2)])\n",
    "        \n",
    "\n",
    "    for i in range(len(rect_list)):\n",
    "        coor = rect_list[i]\n",
    "        cv2.rectangle(clone, (coor[0], coor[1]),\n",
    "                        (coor[2], coor[3]), (0, 255, 0), 2)\n",
    "        cv2.circle(clone, (int(coor[0]+window_size[0]/2),\n",
    "                    int(coor[1]+window_size[1]/2)), 3, (0, 255, 0), 2)\n",
    "\n",
    "    cv2.rectangle(clone, (x1, y1), (x2, y2), (0, 0, 255), 2)\n",
    "    cv2.circle(\n",
    "        clone, (int(x1+window_size[0]/2), int(y1+window_size[1]/2)), 3, (0, 0, 255), 2)\n",
    "    cv2.putText(clone, \"stride: \" + str(stride), (10, 10),\n",
    "                cv2.FONT_HERSHEY_COMPLEX_SMALL, 0.7, (0, 255, 255), 1, cv2.LINE_AA)\n",
    "    cv2.imshow(\"Select thumb first after that select index finger\", clone)\n",
    "    key = cv2.waitKey(0)\n",
    "    if key == ord('q'):\n",
    "        clone = ImgCopy.copy()\n",
    "        for i in range(len(rect_list)):\n",
    "            coor = rect_list[i]\n",
    "        \n",
    "            cv2.rectangle(clone, (coor[0], coor[1]),\n",
    "                            (coor[2], coor[3]), (0,0 , 255), 2)\n",
    "            cv2.putText(clone,\"Point \"+str(i+1), (coor[0], coor[1]),cv2.FONT_HERSHEY_COMPLEX,0.6, (0,0,0), 2)\n",
    "            # cv2.circle(clone, (int(\n",
    "            #     coor[0]+window_size[0]/2), int(coor[1]+window_size[1]/2)), 3, (0, 255, 0), 2)\n",
    "\n",
    "            # img_save_path = os.path.dirname(path[:-1])\n",
    "            # cv2.imwrite(img_save_path + f\"/{initial_point[0]}.jpg\", clone)\n",
    "        img_save_path = os.path.dirname(path)\n",
    "        cv2.imwrite(img_save_path + f\"_targets.jpg\", clone)\n",
    "\n",
    "        cv2.destroyAllWindows()\n",
    "        break\n",
    "\n",
    "print(f\"Comfirm center set at: {center_set}\")\n",
    "# np.save(\"./centers.npy\", centers)"
   ]
  },
  {
   "cell_type": "code",
   "execution_count": 24,
   "metadata": {},
   "outputs": [
    {
     "name": "stdout",
     "output_type": "stream",
     "text": [
      "Center is :\n",
      " [[21, 21]]\n",
      "x1, y1, x2, y2 :\n",
      " [[6, 6, 37, 37]]\n"
     ]
    }
   ],
   "source": [
    "\n",
    "print(\"Center is :\\n\",center_set)\n",
    "# print(center_set[0])\n",
    "print(\"x1, y1, x2, y2 :\\n\",rect_list)"
   ]
  },
  {
   "cell_type": "code",
   "execution_count": 25,
   "metadata": {},
   "outputs": [],
   "source": [
    "save_path = \"./result/\"\n",
    "if not os.path.isdir(save_path):\n",
    "    os.mkdir(save_path)\n"
   ]
  },
  {
   "cell_type": "code",
   "execution_count": 26,
   "metadata": {},
   "outputs": [
    {
     "name": "stdout",
     "output_type": "stream",
     "text": [
      "Got 40 files\n",
      "ref_crop =  (31, 31, 3)\n",
      "Center at [21, 21], crop corr is (6, 37, 6, 37)\n",
      "(128,)\n",
      "start creating ssr_data\n",
      "finish creating ssr_data\n",
      "1/1 [==============================] - 0s 434ms/step\n",
      "initial threshold 1.110243558883667\n",
      "1/1 [==============================] - 0s 17ms/step\n",
      "1/1 [==============================] - 0s 18ms/step\n",
      "1/1 [==============================] - 0s 19ms/step\n",
      "1/1 [==============================] - 0s 21ms/step\n",
      "1/1 [==============================] - 0s 19ms/step\n",
      "1/1 [==============================] - 0s 17ms/step\n",
      "1/1 [==============================] - 0s 18ms/step\n",
      "1/1 [==============================] - 0s 18ms/step\n",
      "1/1 [==============================] - 0s 18ms/step\n",
      "1/1 [==============================] - 0s 17ms/step\n",
      "1/1 [==============================] - 0s 17ms/step\n",
      "1/1 [==============================] - 0s 17ms/step\n",
      "1/1 [==============================] - 0s 18ms/step\n",
      "1/1 [==============================] - 0s 20ms/step\n",
      "1/1 [==============================] - 0s 19ms/step\n",
      "1/1 [==============================] - 0s 18ms/step\n",
      "1/1 [==============================] - 0s 18ms/step\n",
      "1/1 [==============================] - 0s 17ms/step\n",
      "1/1 [==============================] - 0s 17ms/step\n",
      "1/1 [==============================] - 0s 17ms/step\n",
      "1/1 [==============================] - 0s 18ms/step\n",
      "1/1 [==============================] - 0s 18ms/step\n",
      "1/1 [==============================] - 0s 18ms/step\n",
      "1/1 [==============================] - 0s 19ms/step\n",
      "1/1 [==============================] - 0s 18ms/step\n",
      "1/1 [==============================] - 0s 16ms/step\n",
      "1/1 [==============================] - 0s 18ms/step\n",
      "1/1 [==============================] - 0s 18ms/step\n",
      "1/1 [==============================] - 0s 18ms/step\n",
      "1/1 [==============================] - 0s 17ms/step\n",
      "1/1 [==============================] - 0s 16ms/step\n",
      "crop shape is (30, 31, 3)\n",
      "1/1 [==============================] - 0s 17ms/step\n",
      "crop shape is (30, 30, 3)\n",
      "crop shape is (30, 30, 3)\n",
      "crop shape is (30, 31, 3)\n",
      "crop shape is (31, 30, 3)\n",
      "1/1 [==============================] - 0s 18ms/step\n",
      "1/1 [==============================] - 0s 18ms/step\n",
      "1/1 [==============================] - 0s 16ms/step\n",
      "1/1 [==============================] - 0s 17ms/step\n",
      "1/1 [==============================] - 0s 19ms/step\n",
      "1/1 [==============================] - 0s 19ms/step\n"
     ]
    }
   ],
   "source": [
    "# %cd \"C:\\QuantPD_data\\Process_Video_DfeTracking\"\n",
    "# import DFE_tracking\n",
    "img_path = path\n",
    "center = center_set\n",
    "first_name = \"03555114_L_L_deflicker\"\n",
    "name = [first_name + f\"_point1_{center[0][0]} {center[0][1]}\", first_name]\n",
    "preds = dfe.DFE_tracking(img_path, center, save_path, name)\n",
    "np.save(save_path + f\"{name[0]}_preds.npy\", preds)"
   ]
  },
  {
   "cell_type": "code",
   "execution_count": 31,
   "metadata": {},
   "outputs": [],
   "source": [
    "def plot_result(result_path, img_path, save_path, frame_num = 0, save_result=False, point_num = 1):\n",
    "    result = np.load(result_path)\n",
    "    path = img_path\n",
    "    filenames=sorted_alphanumeric(os.listdir(path))\n",
    "#     filenames = filenames[734::]#bbox_center = bbox_center[:300]\n",
    "    print()\n",
    "#     new_size=(400,300)\n",
    "    window_size = (31,31)\n",
    "    if not os.path.isdir(save_path):\n",
    "        os.mkdir(save_path)\n",
    "    count = 0\n",
    "    for i in range(len(result)):\n",
    "        img=cv2.imread(path+filenames[i])\n",
    "        # img=cv2.resize(img,(new_size[0],new_size[1]))\n",
    "        x1 = int(result[i][0]-window_size[0]/2)\n",
    "        x2 = int(result[i][0]+window_size[0]/2)\n",
    "        y1 = int(result[i][1]-window_size[1]/2)\n",
    "        y2 = int(result[i][1]+window_size[1]/2)\n",
    "\n",
    "        cv2.rectangle(img, (x1,y1), (x2,y2), (0,0,255), 2)\n",
    "        # cv2.putText(img,f\"Point {point_num}\", (x1, y1),cv2.FONT_HERSHEY_COMPLEX,0.4, (0,0,0), 2)\n",
    "        cv2.imwrite(save_path+\"{count}.jpg\".format(count=count), img)\n",
    "        count += 1\n",
    "    print(\"save result at \" + save_path)"
   ]
  },
  {
   "cell_type": "code",
   "execution_count": 35,
   "metadata": {},
   "outputs": [
    {
     "name": "stdout",
     "output_type": "stream",
     "text": [
      "\n",
      "save result at ./result_plot/\n",
      "\n",
      "save result at ./result_plot/\n"
     ]
    }
   ],
   "source": [
    "######point 1, 2##############\n",
    "# predict_path = \"./result/finger_tapping_R_L_point1_201 295_preds.npy\"\n",
    "# predict_path2 = \"./result/finger_tapping_R_L_point2_175_283_preds.npy\"\n",
    "predict_path = \"../finger_tapping_R_L_cotracker_point1_coords.npy\"\n",
    "predict_path2 = \"../finger_tapping_R_L_cotracker_point2_coords.npy\"\n",
    "img_path = path\n",
    "\n",
    "# img_path = \"result_visualize/03555114_DFE_R_B/\"\n",
    "save_path = \"./result_plot/\"\n",
    "plot_result(predict_path, img_path, save_path, frame_num = 99999, save_result=True, point_num = 1)\n",
    "img_path2 = \"./result_plot/\"\n",
    "plot_result(predict_path2, img_path2, save_path, frame_num = 99999, save_result=True, point_num = 2)"
   ]
  },
  {
   "cell_type": "code",
   "execution_count": 8,
   "metadata": {},
   "outputs": [
    {
     "name": "stdout",
     "output_type": "stream",
     "text": [
      "\n",
      "save result at ./result_plot/\n",
      "\n",
      "save result at ./result_plot/\n"
     ]
    }
   ],
   "source": [
    "#### all points#####\n",
    "pred_path = \"./result/finger_tapping_R_L/\"\n",
    "files = sorted_alphanumeric(os.listdir(pred_path))\n",
    "for i in range(len(files[:6])):\n",
    "    predict_path = pred_path+files[i]\n",
    "    img_path = path\n",
    "    save_path = \"./result_plot/\"\n",
    "    plot_result(predict_path, img_path, save_path, frame_num = 99999, save_result=True)"
   ]
  }
 ],
 "metadata": {
  "kernelspec": {
   "display_name": "base",
   "language": "python",
   "name": "python3"
  },
  "language_info": {
   "codemirror_mode": {
    "name": "ipython",
    "version": 3
   },
   "file_extension": ".py",
   "mimetype": "text/x-python",
   "name": "python",
   "nbconvert_exporter": "python",
   "pygments_lexer": "ipython3",
   "version": "3.9.13"
  },
  "orig_nbformat": 4,
  "vscode": {
   "interpreter": {
    "hash": "beb4c039f56ac7c55cbc1e4bb84c162d88fc31a5df47c3d7587ff08ec9e26760"
   }
  }
 },
 "nbformat": 4,
 "nbformat_minor": 2
}
